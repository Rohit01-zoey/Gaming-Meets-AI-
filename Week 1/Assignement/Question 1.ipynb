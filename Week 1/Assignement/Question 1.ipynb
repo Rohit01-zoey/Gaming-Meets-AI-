{
 "metadata": {
  "language_info": {
   "codemirror_mode": {
    "name": "ipython",
    "version": 3
   },
   "file_extension": ".py",
   "mimetype": "text/x-python",
   "name": "python",
   "nbconvert_exporter": "python",
   "pygments_lexer": "ipython3",
   "version": "3.7.4"
  },
  "orig_nbformat": 2,
  "kernelspec": {
   "name": "python374jvsc74a57bd0d4bbe7d57c95a32d1f644ee2367dd137d325d38ab01c1d3e852db70e81865468",
   "display_name": "Python 3.7.4 64-bit ('base': conda)"
  }
 },
 "nbformat": 4,
 "nbformat_minor": 2,
 "cells": [
  {
   "source": [
    "# Question 1"
   ],
   "cell_type": "markdown",
   "metadata": {}
  },
  {
   "cell_type": "code",
   "execution_count": 1,
   "metadata": {},
   "outputs": [],
   "source": [
    "import numpy as np\n",
    "import pandas as pd\n",
    "from collections import OrderedDict"
   ]
  },
  {
   "source": [
    "## Input "
   ],
   "cell_type": "markdown",
   "metadata": {}
  },
  {
   "cell_type": "code",
   "execution_count": 2,
   "metadata": {},
   "outputs": [],
   "source": [
    "m = int(input())\n",
    "s=[]\n",
    "for _ in range(m):\n",
    "  s.append(input())\n"
   ]
  },
  {
   "cell_type": "code",
   "execution_count": 3,
   "metadata": {},
   "outputs": [],
   "source": [
    "match, player = [], []\n",
    "for i in range(m):\n",
    "  match.append(s[i].split(\":\")[0])\n",
    "  player.append(s[i].split(\":\")[1])"
   ]
  },
  {
   "cell_type": "code",
   "execution_count": 4,
   "metadata": {},
   "outputs": [
    {
     "output_type": "execute_result",
     "data": {
      "text/plain": [
       "(['match1', 'match2', 'm3'], ['p1-9,p2-28', 'p3-19,P1-49', 'p3-1,p4-6,p1-91'])"
      ]
     },
     "metadata": {},
     "execution_count": 4
    }
   ],
   "source": [
    "match, player"
   ]
  },
  {
   "cell_type": "code",
   "execution_count": 5,
   "metadata": {},
   "outputs": [
    {
     "output_type": "execute_result",
     "data": {
      "text/plain": [
       "{'match1': 'p1-9,p2-28', 'match2': 'p3-19,P1-49', 'm3': 'p3-1,p4-6,p1-91'}"
      ]
     },
     "metadata": {},
     "execution_count": 5
    }
   ],
   "source": [
    "dict_n = {match:player for match, player in zip(match, player)}\n",
    "dict_n"
   ]
  },
  {
   "cell_type": "code",
   "execution_count": 6,
   "metadata": {},
   "outputs": [
    {
     "output_type": "execute_result",
     "data": {
      "text/plain": [
       "OrderedDict([('match1', 'p1-9,p2-28'),\n",
       "             ('match2', 'p3-19,P1-49'),\n",
       "             ('m3', 'p3-1,p4-6,p1-91')])"
      ]
     },
     "metadata": {},
     "execution_count": 6
    }
   ],
   "source": [
    "dict_o = OrderedDict(zip(match, player))\n",
    "dict_o"
   ]
  },
  {
   "cell_type": "code",
   "execution_count": 7,
   "metadata": {},
   "outputs": [],
   "source": [
    "h = []\n",
    "for i in player:\n",
    "  pp = i.split(\",\")\n",
    "  for j in pp:\n",
    "    ppp = j.split(\"-\")\n",
    "    h.append(ppp)"
   ]
  },
  {
   "cell_type": "code",
   "execution_count": 8,
   "metadata": {},
   "outputs": [
    {
     "output_type": "execute_result",
     "data": {
      "text/plain": [
       "    0    1\n",
       "0  P1   49\n",
       "1  p1  100\n",
       "2  p2   28\n",
       "3  p3   20\n",
       "4  p4    6"
      ],
      "text/html": "<div>\n<style scoped>\n    .dataframe tbody tr th:only-of-type {\n        vertical-align: middle;\n    }\n\n    .dataframe tbody tr th {\n        vertical-align: top;\n    }\n\n    .dataframe thead th {\n        text-align: right;\n    }\n</style>\n<table border=\"1\" class=\"dataframe\">\n  <thead>\n    <tr style=\"text-align: right;\">\n      <th></th>\n      <th>0</th>\n      <th>1</th>\n    </tr>\n  </thead>\n  <tbody>\n    <tr>\n      <td>0</td>\n      <td>P1</td>\n      <td>49</td>\n    </tr>\n    <tr>\n      <td>1</td>\n      <td>p1</td>\n      <td>100</td>\n    </tr>\n    <tr>\n      <td>2</td>\n      <td>p2</td>\n      <td>28</td>\n    </tr>\n    <tr>\n      <td>3</td>\n      <td>p3</td>\n      <td>20</td>\n    </tr>\n    <tr>\n      <td>4</td>\n      <td>p4</td>\n      <td>6</td>\n    </tr>\n  </tbody>\n</table>\n</div>"
     },
     "metadata": {},
     "execution_count": 8
    }
   ],
   "source": [
    "df = pd.DataFrame(h)\n",
    "df[1] = df[1].astype(int)\n",
    "df.groupby(df[0]).sum().reset_index()"
   ]
  },
  {
   "cell_type": "code",
   "execution_count": 9,
   "metadata": {},
   "outputs": [],
   "source": [
    "final = []\n",
    "for j in np.array(df):\n",
    "  final.append(tuple(j))"
   ]
  },
  {
   "cell_type": "code",
   "execution_count": 10,
   "metadata": {},
   "outputs": [
    {
     "output_type": "execute_result",
     "data": {
      "text/plain": [
       "[('p1', 9),\n",
       " ('p2', 28),\n",
       " ('p3', 19),\n",
       " ('P1', 49),\n",
       " ('p3', 1),\n",
       " ('p4', 6),\n",
       " ('p1', 91)]"
      ]
     },
     "metadata": {},
     "execution_count": 10
    }
   ],
   "source": [
    "final"
   ]
  },
  {
   "cell_type": "code",
   "execution_count": null,
   "metadata": {},
   "outputs": [],
   "source": []
  }
 ]
}